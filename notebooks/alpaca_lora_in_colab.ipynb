{
  "nbformat": 4,
  "nbformat_minor": 0,
  "metadata": {
    "colab": {
      "provenance": [],
      "machine_shape": "hm",
      "include_colab_link": true
    },
    "kernelspec": {
      "name": "python3",
      "display_name": "Python 3"
    },
    "language_info": {
      "name": "python"
    },
    "accelerator": "GPU",
    "gpuClass": "premium"
  },
  "cells": [
    {
      "cell_type": "markdown",
      "metadata": {
        "id": "view-in-github",
        "colab_type": "text"
      },
      "source": [
        "<a href=\"https://colab.research.google.com/github/deep-diver/Alpaca-LoRA-Serve/blob/main/notebooks/alpaca_lora_in_colab.ipynb\" target=\"_parent\"><img src=\"https://colab.research.google.com/assets/colab-badge.svg\" alt=\"Open In Colab\"/></a>"
      ]
    },
    {
      "cell_type": "code",
      "source": [
        "!nvidia-smi"
      ],
      "metadata": {
        "id": "L2MoM27rfaKK"
      },
      "execution_count": null,
      "outputs": []
    },
    {
      "cell_type": "code",
      "source": [
        "!git clone https://github.com/deep-diver/Alpaca-LoRA-Serve.git"
      ],
      "metadata": {
        "id": "a_i5DKBNnzAK",
        "colab": {
          "base_uri": "https://localhost:8080/"
        },
        "outputId": "8b1c5391-b91b-4cde-c49c-8eafd49c6974"
      },
      "execution_count": 2,
      "outputs": [
        {
          "output_type": "stream",
          "name": "stdout",
          "text": [
            "Cloning into 'Alpaca-LoRA-Serve'...\n",
            "remote: Enumerating objects: 221, done.\u001b[K\n",
            "remote: Counting objects: 100% (214/214), done.\u001b[K\n",
            "remote: Compressing objects: 100% (121/121), done.\u001b[K\n",
            "remote: Total 221 (delta 98), reused 188 (delta 85), pack-reused 7\u001b[K\n",
            "Receiving objects: 100% (221/221), 61.79 KiB | 2.57 MiB/s, done.\n",
            "Resolving deltas: 100% (98/98), done.\n"
          ]
        }
      ]
    },
    {
      "cell_type": "code",
      "source": [
        "%cd Alpaca-LoRA-Serve"
      ],
      "metadata": {
        "id": "wR-M8u7gsQqg",
        "colab": {
          "base_uri": "https://localhost:8080/"
        },
        "outputId": "67dd35ac-592e-4e61-959b-6454497eb8f8"
      },
      "execution_count": 3,
      "outputs": [
        {
          "output_type": "stream",
          "name": "stdout",
          "text": [
            "/content/Alpaca-LoRA-Serve\n"
          ]
        }
      ]
    },
    {
      "cell_type": "code",
      "source": [
        "!pip install -r requirements.txt"
      ],
      "metadata": {
        "id": "moN-15x_ifHE"
      },
      "execution_count": null,
      "outputs": []
    },
    {
      "cell_type": "code",
      "source": [
        "!python app.py --base_url decapoda-research/llama-30b-hf --ft_ckpt_url=chansung/alpaca-lora-30b --share yes"
      ],
      "metadata": {
        "colab": {
          "base_uri": "https://localhost:8080/"
        },
        "id": "y3qpzBw2jMHq",
        "outputId": "adb89b9c-8292-43df-d7a4-8591cc46e552"
      },
      "execution_count": null,
      "outputs": [
        {
          "output_type": "stream",
          "name": "stdout",
          "text": [
            "Downloading (…)l-00011-of-00061.bin: 100% 1.34G/1.34G [00:06<00:00, 193MB/s]\n",
            "Downloading (…)l-00012-of-00061.bin: 100% 1.34G/1.34G [00:07<00:00, 168MB/s]\n",
            "Downloading (…)l-00013-of-00061.bin: 100% 1.34G/1.34G [00:08<00:00, 156MB/s]\n",
            "Downloading (…)l-00014-of-00061.bin: 100% 1.34G/1.34G [00:07<00:00, 170MB/s]\n",
            "Downloading (…)l-00015-of-00061.bin: 100% 1.34G/1.34G [00:08<00:00, 154MB/s]\n",
            "Downloading (…)l-00016-of-00061.bin: 100% 1.34G/1.34G [00:08<00:00, 150MB/s]\n",
            "Downloading (…)l-00017-of-00061.bin:  60% 807M/1.34G [00:05<00:04, 108MB/s]"
          ]
        }
      ]
    },
    {
      "cell_type": "code",
      "source": [],
      "metadata": {
        "id": "HgY6rLWNjxVM"
      },
      "execution_count": null,
      "outputs": []
    }
  ]
}